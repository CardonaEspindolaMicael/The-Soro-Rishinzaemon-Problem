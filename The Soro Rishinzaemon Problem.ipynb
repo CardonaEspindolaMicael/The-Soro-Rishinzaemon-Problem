{
 "cells": [
  {
   "cell_type": "markdown",
   "id": "101c46ea-0b32-4da7-b52f-9af8601622b6",
   "metadata": {},
   "source": [
    "# Problem 1: Number of rice grains on day 100"
   ]
  },
  {
   "cell_type": "code",
   "execution_count": 28,
   "id": "d4524626-445d-44c7-950f-838641737067",
   "metadata": {},
   "outputs": [
    {
     "name": "stdout",
     "output_type": "stream",
     "text": [
      "Total grains of rice after 100 days: 1267650600228229401496703205375\n"
     ]
    },
    {
     "data": {
      "image/png": "[encoded data removed]",
      "text/plain": [
       "<Figure size 640x480 with 1 Axes>"
      ]
     },
     "metadata": {},
     "output_type": "display_data"
    }
   ],
   "source": [
    "import matplotlib.pyplot as plt\n",
    "\n",
    "grains_of_rice = 0\n",
    "list_of_grains = []\n",
    "\n",
    "for i in range(100):\n",
    "    grains_of_rice += 2 ** i\n",
    "    list_of_grains.append(grains_of_rice)\n",
    "\n",
    "print(\"Total grains of rice after 100 days: {}\".format(grains_of_rice))\n",
    "\n",
    "plt.title('Number of Rice Grains')\n",
    "plt.ylabel('Number of Rice Grains')\n",
    "plt.xlabel('Number of Days')\n",
    "plt.plot(list_of_grains)\n",
    "plt.grid(True)\n",
    "plt.show()\n"
   ]
  },
  {
   "cell_type": "code",
   "execution_count": 51,
   "id": "70d64c5e-2eaa-4c04-97ab-8c202591bfbb",
   "metadata": {},
   "outputs": [
    {
     "data": {
      "text/plain": [
       "[1, 3, 7, 15, 31, 63, 127, 255, 511, 1023]"
      ]
     },
     "execution_count": 51,
     "metadata": {},
     "output_type": "execute_result"
    }
   ],
   "source": [
    "def compute_sorori_shinzaemon(n_days=100):\n",
    "    \n",
    "    \"\"\"曽呂利新左衛門の米の逸話における、日にちごとの米の粒の数を計算する関数。\n",
    "\n",
    "    Parameteres\n",
    "    -----------\n",
    "    n_days: int\n",
    "        米を貰う日数 (default : 100)\n",
    "\n",
    "    Returns\n",
    "    -------\n",
    "    list_n_grains : list\n",
    "        ある日に貰う米の数のリスト (リストの長さはn_daysに等しい)\n",
    "    list_total_grains : list\n",
    "        ある日までに累計で貰う米の数のリスト (リストの長さはn_daysに等しい)\n",
    "    \"\"\"\n",
    "    \n",
    "    list_n_grains = []\n",
    "    list_total_grains = []\n",
    "    grains_of_rice = 0\n",
    "\n",
    "    for i in range(n_days):\n",
    "        daily_grains = 2 ** i\n",
    "        grains_of_rice += daily_grains\n",
    "        list_n_grains.append(daily_grains)\n",
    "        list_total_grains.append(grains_of_rice)\n",
    "\n",
    "    return list_n_grains, list_total_grains\n",
    "\n",
    "list_n_grains, list_total_grains = compute_sorori_shinzaemon(n_days=10)"
   ]
  },
  {
   "cell_type": "markdown",
   "id": "dff8fb13-c077-44dc-90f8-5d4b4d988a3b",
   "metadata": {},
   "source": [
    "# According to the Food and Agriculture Organization (FAO) and dietary guidelines, an average adult consumes around 0.5 kg (500g) of rice per day in countries where rice is a staple food.\n",
    "## Since 1 kg = 50,000 grains, and a person eats 0.5 kg per day\n",
    "### $50,000×0.5=25,000$\n"
   ]
  },
  {
   "cell_type": "code",
   "execution_count": 55,
   "id": "10efc748-7574-490b-a8a9-7d185494241c",
   "metadata": {},
   "outputs": [
    {
     "name": "stdout",
     "output_type": "stream",
     "text": [
      "10 people can survive for 4 days with 1000000 grains of rice.\n"
     ]
    }
   ],
   "source": [
    "def calculate_survival_days(grains_of_rice: int, num_people: int) -> int:\n",
    "    \"\"\"\n",
    "    Calculate how many days a group of people can survive with the given amount of rice grains.\n",
    "\n",
    "    Parameters:\n",
    "    -----------\n",
    "    grains_of_rice : int\n",
    "        The total number of grains of rice available.\n",
    "    num_people : int\n",
    "        The number of people who will consume the rice.\n",
    "\n",
    "    Returns:\n",
    "    --------\n",
    "    int\n",
    "        The number of days the group can survive.\n",
    "    \n",
    "    Research Basis:\n",
    "    --------------\n",
    "    - An average person consumes ~0.5 kg of rice per day.\n",
    "    - There are approximately 50,000 grains of rice per kilogram.\n",
    "    - Thus, one person needs ~25,000 grains of rice per day.\n",
    "    \"\"\"\n",
    "    RICE_PER_PERSON_PER_DAY = 25000  \n",
    "\n",
    "    if num_people <= 0:\n",
    "        raise ValueError(\"Number of people must be greater than zero.\")\n",
    "    \n",
    "    return grains_of_rice // (num_people * RICE_PER_PERSON_PER_DAY)\n",
    "\n",
    "# Example usage:\n",
    "grains = 1000000  # Example total grains\n",
    "people = 10       # Example number of people\n",
    "days = calculate_survival_days(grains, people)\n",
    "print(f\"{people} people can survive for {days} days with {grains} grains of rice.\")\n",
    "\n",
    "\n"
   ]
  }
 ],
 "metadata": {
  "kernelspec": {
   "display_name": "Python 3 (ipykernel)",
   "language": "python",
   "name": "python3"
  },
  "language_info": {
   "codemirror_mode": {
    "name": "ipython",
    "version": 3
   },
   "file_extension": ".py",
   "mimetype": "text/x-python",
   "name": "python",
   "nbconvert_exporter": "python",
   "pygments_lexer": "ipython3",
   "version": "3.8.10"
  }
 },
 "nbformat": 4,
 "nbformat_minor": 5
}
